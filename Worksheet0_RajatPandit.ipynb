{
  "nbformat": 4,
  "nbformat_minor": 0,
  "metadata": {
    "colab": {
      "provenance": []
    },
    "kernelspec": {
      "name": "python3",
      "display_name": "Python 3"
    },
    "language_info": {
      "name": "python"
    }
  },
  "cells": [
    {
      "cell_type": "markdown",
      "source": [
        "#4.1 Exercise on Functions:"
      ],
      "metadata": {
        "id": "TE4RfUQYy0lz"
      }
    },
    {
      "cell_type": "markdown",
      "source": [
        "Task - 1:\n",
        "Create a Python program that converts between different units of measurement."
      ],
      "metadata": {
        "id": "2J73_MWky3kn"
      }
    },
    {
      "cell_type": "code",
      "execution_count": 4,
      "metadata": {
        "colab": {
          "base_uri": "https://localhost:8080/"
        },
        "id": "pYxca16YypPG",
        "outputId": "dee0dd4b-7f46-42fe-f42f-08d351f72d91"
      },
      "outputs": [
        {
          "output_type": "stream",
          "name": "stdout",
          "text": [
            "Unit Conversion Program\n",
            "Supported conversion types:\n",
            "1. Length: meters (m) to feet (ft) and vice versa\n",
            "2. Weight: kilograms (kg) to pounds (lbs) and vice versa\n",
            "3. Volume: liters (L) to gallons (gal) and vice versa\n",
            "Enter the conversion type (length, weight, volume): length\n",
            "Enter the value to convert: 300\n",
            "Convert from (m/ft): m\n",
            "Convert to (m/ft): ft\n",
            "300.0 m is equal to 984.25 ft\n"
          ]
        }
      ],
      "source": [
        "def convert_units(value, from_unit, to_unit):\n",
        "    # Length conversions\n",
        "    if from_unit == \"m\" and to_unit == \"ft\":\n",
        "        return value * 3.28084\n",
        "    elif from_unit == \"ft\" and to_unit == \"m\":\n",
        "        return value / 3.28084\n",
        "\n",
        "    # Weight conversions\n",
        "    elif from_unit == \"kg\" and to_unit == \"lbs\":\n",
        "        return value * 2.20462\n",
        "    elif from_unit == \"lbs\" and to_unit == \"kg\":\n",
        "        return value / 2.20462\n",
        "\n",
        "    # Volume conversions\n",
        "    elif from_unit == \"L\" and to_unit == \"gal\":\n",
        "        return value * 0.264172\n",
        "    elif from_unit == \"gal\" and to_unit == \"L\":\n",
        "        return value / 0.264172\n",
        "\n",
        "    else:\n",
        "        raise ValueError(\"Unsupported conversion type.\")\n",
        "\n",
        "def main():\n",
        "    print(\"Unit Conversion Program\")\n",
        "    print(\"Supported conversion types:\")\n",
        "    print(\"1. Length: meters (m) to feet (ft) and vice versa\")\n",
        "    print(\"2. Weight: kilograms (kg) to pounds (lbs) and vice versa\")\n",
        "    print(\"3. Volume: liters (L) to gallons (gal) and vice versa\")\n",
        "\n",
        "    try:\n",
        "        conversion_type = input(\"Enter the conversion type (length, weight, volume): \").strip().lower()\n",
        "        if conversion_type not in [\"length\", \"weight\", \"volume\"]:\n",
        "            print(\"Error: Invalid conversion type.\")\n",
        "            return\n",
        "\n",
        "        # Prompt user for input value\n",
        "        value = float(input(\"Enter the value to convert: \"))\n",
        "\n",
        "        # Prompt user for units\n",
        "        if conversion_type == \"length\":\n",
        "            from_unit = input(\"Convert from (m/ft): \").strip().lower()\n",
        "            to_unit = input(\"Convert to (m/ft): \").strip().lower()\n",
        "        elif conversion_type == \"weight\":\n",
        "            from_unit = input(\"Convert from (kg/lbs): \").strip().lower()\n",
        "            to_unit = input(\"Convert to (kg/lbs): \").strip().lower()\n",
        "        elif conversion_type == \"volume\":\n",
        "            from_unit = input(\"Convert from (L/gal): \").strip().lower()\n",
        "            to_unit = input(\"Convert to (L/gal): \").strip().lower()\n",
        "\n",
        "        # Perform conversion\n",
        "        result = convert_units(value, from_unit, to_unit)\n",
        "        print(f\"{value} {from_unit} is equal to {result:.2f} {to_unit}\")\n",
        "\n",
        "    except ValueError as e:\n",
        "        print(f\"Error: {e}\")\n",
        "    except Exception as e:\n",
        "        print(f\"An unexpected error occurred: {e}\")\n",
        "\n",
        "if __name__ == \"__main__\":\n",
        "    main()"
      ]
    },
    {
      "cell_type": "markdown",
      "source": [
        "Task - 2:\n",
        "Create a Python program that performs various mathematical operations on a list of numbers."
      ],
      "metadata": {
        "id": "PWwPLgwlzwzm"
      }
    },
    {
      "cell_type": "code",
      "source": [
        "def calculate_sum(numbers):\n",
        "      return sum(numbers)\n",
        "\n",
        "def calculate_average(numbers):\n",
        "\n",
        "    return sum(numbers) / len(numbers)\n",
        "\n",
        "def find_maximum(numbers):\n",
        "    return max(numbers)\n",
        "\n",
        "def find_minimum(numbers):\n",
        "    return min(numbers)\n",
        "\n",
        "def main():\n",
        "    print(\"Mathematical Operations Program\")\n",
        "    print(\"Supported operations:\")\n",
        "    print(\"1. Sum\")\n",
        "    print(\"2. Average\")\n",
        "    print(\"3. Maximum\")\n",
        "    print(\"4. Minimum\")\n",
        "\n",
        "    try:\n",
        "        # Prompt user for operation choice\n",
        "        operation = input(\"Enter the operation (sum, average, maximum, minimum): \").strip().lower()\n",
        "\n",
        "        if operation not in [\"sum\", \"average\", \"maximum\", \"minimum\"]:\n",
        "            print(\"Error: Invalid operation.\")\n",
        "            return\n",
        "\n",
        "        # Prompt user for list of numbers\n",
        "        input_numbers = input(\"Enter a list of numbers separated by spaces: \").strip()\n",
        "        if not input_numbers:\n",
        "            raise ValueError(\"Empty input. Please enter at least one number.\")\n",
        "\n",
        "\n",
        "        numbers = list(map(float, input_numbers.split()))\n",
        "\n",
        "        # select operation\n",
        "        if operation == \"sum\":\n",
        "            result = calculate_sum(numbers)\n",
        "            print(f\"The sum of the numbers is: {result}\")\n",
        "        elif operation == \"average\":\n",
        "            result = calculate_average(numbers)\n",
        "            print(f\"The average of the numbers is: {result}\")\n",
        "        elif operation == \"maximum\":\n",
        "            result = find_maximum(numbers)\n",
        "            print(f\"The maximum number is: {result}\")\n",
        "        elif operation == \"minimum\":\n",
        "            result = find_minimum(numbers)\n",
        "            print(f\"The minimum number is: {result}\")\n",
        "\n",
        "    except ValueError as e:\n",
        "        print(f\"Error: {e}\")\n",
        "    except ZeroDivisionError:\n",
        "        print(\"Error: Cannot calculate average of an empty list.\")\n",
        "    except Exception as e:\n",
        "        print(f\"An unexpected error occurred: {e}\")\n",
        "\n",
        "if __name__ == \"__main__\":\n",
        "    main()"
      ],
      "metadata": {
        "colab": {
          "base_uri": "https://localhost:8080/"
        },
        "id": "aRsBWrS5zzN3",
        "outputId": "e4c3954f-3e9a-432e-978b-f144207af6f4"
      },
      "execution_count": 5,
      "outputs": [
        {
          "output_type": "stream",
          "name": "stdout",
          "text": [
            "Mathematical Operations Program\n",
            "Supported operations:\n",
            "1. Sum\n",
            "2. Average\n",
            "3. Maximum\n",
            "4. Minimum\n",
            "Enter the operation (sum, average, maximum, minimum): average\n",
            "Enter a list of numbers separated by spaces: 20 15 10 50\n",
            "The average of the numbers is: 23.75\n"
          ]
        }
      ]
    },
    {
      "cell_type": "markdown",
      "source": [
        "#4.2 Exercise on List Manipulation:"
      ],
      "metadata": {
        "id": "OU8-oApE0aqm"
      }
    },
    {
      "cell_type": "markdown",
      "source": [
        "1. Extract Every Other Element:\n",
        "Write a Python function that extracts every other element from a list, starting from the first element."
      ],
      "metadata": {
        "id": "POW2Hs7e0cSm"
      }
    },
    {
      "cell_type": "code",
      "source": [
        "def extract_every_other(lst):\n",
        "    return lst[::2]\n",
        "\n",
        "# Example usage\n",
        "input_list = [1, 2, 3, 4, 5, 6]\n",
        "result = extract_every_other(input_list)\n",
        "print(result)"
      ],
      "metadata": {
        "colab": {
          "base_uri": "https://localhost:8080/"
        },
        "id": "_ifX_2mp0fUe",
        "outputId": "51d3962c-e615-4a01-df54-930c1ce391b7"
      },
      "execution_count": 6,
      "outputs": [
        {
          "output_type": "stream",
          "name": "stdout",
          "text": [
            "[1, 3, 5]\n"
          ]
        }
      ]
    },
    {
      "cell_type": "markdown",
      "source": [
        "2. Slice a Sublist:\n",
        "Write a Python function that returns a sublist from a given list, starting from a specified index and\n",
        "ending at another specified index."
      ],
      "metadata": {
        "id": "pEqrrch21HF_"
      }
    },
    {
      "cell_type": "code",
      "source": [
        "def get_sublist(lst, start, end):\n",
        "    return lst[start:end + 1]\n",
        "\n",
        "\n",
        "input_list = [1, 2, 3, 4, 5, 6]\n",
        "start_index = 2\n",
        "end_index = 4\n",
        "result = get_sublist(input_list, start_index, end_index)\n",
        "print(result)"
      ],
      "metadata": {
        "colab": {
          "base_uri": "https://localhost:8080/"
        },
        "id": "u0Zan1Wc1LHX",
        "outputId": "2966512a-f5ca-4dd5-b835-37fca1d6e1d6"
      },
      "execution_count": 7,
      "outputs": [
        {
          "output_type": "stream",
          "name": "stdout",
          "text": [
            "[3, 4, 5]\n"
          ]
        }
      ]
    },
    {
      "cell_type": "markdown",
      "source": [
        "3. Reverse a List Using Slicing:\n",
        "Write a Python function that reverses a list using slicing."
      ],
      "metadata": {
        "id": "WnHpVH911Xre"
      }
    },
    {
      "cell_type": "code",
      "source": [
        "def reverse_list(lst):\n",
        "    return lst[::-1]\n",
        "\n",
        "input_list = [1, 2, 3, 4, 5]\n",
        "result = reverse_list(input_list)\n",
        "print(result)\n"
      ],
      "metadata": {
        "colab": {
          "base_uri": "https://localhost:8080/"
        },
        "id": "jdOGZZ5A1YLm",
        "outputId": "ba1f738a-88e5-4276-fe66-d11fc7f5e521"
      },
      "execution_count": 8,
      "outputs": [
        {
          "output_type": "stream",
          "name": "stdout",
          "text": [
            "[5, 4, 3, 2, 1]\n"
          ]
        }
      ]
    },
    {
      "cell_type": "markdown",
      "source": [
        "4. Remove the First and Last Elements:\n",
        "Write a Python function that removes the first and last elements of a list and returns the resulting\n",
        "sublist."
      ],
      "metadata": {
        "id": "V4vtjqR51ngN"
      }
    },
    {
      "cell_type": "code",
      "source": [
        "def remove_first_last(lst):\n",
        "    return lst[1:-1]\n",
        "\n",
        "input_list = [1, 2, 3, 4, 5]\n",
        "result = remove_first_last(input_list)\n",
        "print(result)\n"
      ],
      "metadata": {
        "colab": {
          "base_uri": "https://localhost:8080/"
        },
        "id": "ZmdcpfvN1qLo",
        "outputId": "b5251893-2509-4e5d-a1e3-074a18846584"
      },
      "execution_count": 9,
      "outputs": [
        {
          "output_type": "stream",
          "name": "stdout",
          "text": [
            "[2, 3, 4]\n"
          ]
        }
      ]
    },
    {
      "cell_type": "markdown",
      "source": [
        "5. Get the First n Elements:\n",
        "Write a Python function that extracts the first n elements from a list."
      ],
      "metadata": {
        "id": "RsuwoNJT12Bv"
      }
    },
    {
      "cell_type": "code",
      "source": [
        "def get_first_n(lst, n):\n",
        "    return lst[:n]\n",
        "\n",
        "input_list = [1, 2, 3, 4, 5]\n",
        "n = 3\n",
        "result = get_first_n(input_list, n)\n",
        "print(result)\n"
      ],
      "metadata": {
        "colab": {
          "base_uri": "https://localhost:8080/"
        },
        "id": "E_N74aCi1383",
        "outputId": "4435e09f-14f6-4a99-c240-2da7f9420886"
      },
      "execution_count": 10,
      "outputs": [
        {
          "output_type": "stream",
          "name": "stdout",
          "text": [
            "[1, 2, 3]\n"
          ]
        }
      ]
    },
    {
      "cell_type": "markdown",
      "source": [
        "6. Extract Elements from the End:\n",
        "Write a Python function that extracts the last n elements of a list using slicing."
      ],
      "metadata": {
        "id": "05Vtv1Be2Gym"
      }
    },
    {
      "cell_type": "code",
      "source": [
        "def get_last_n(lst, n):\n",
        "    return lst[-n:]\n",
        "\n",
        "input_list = [1, 2, 3, 4, 5]\n",
        "n = 2\n",
        "result = get_last_n(input_list, n)\n",
        "print(result)\n"
      ],
      "metadata": {
        "colab": {
          "base_uri": "https://localhost:8080/"
        },
        "id": "UyhfM6iQ2JI4",
        "outputId": "de6fa52a-2ecb-44aa-e452-34355b39623c"
      },
      "execution_count": 11,
      "outputs": [
        {
          "output_type": "stream",
          "name": "stdout",
          "text": [
            "[4, 5]\n"
          ]
        }
      ]
    },
    {
      "cell_type": "markdown",
      "source": [
        "7. Extract Elements in Reverse Order:\n",
        "Write a Python function that extracts a list of elements in reverse order starting from the second-to-last\n",
        "element and skipping one element in between."
      ],
      "metadata": {
        "id": "ZXNWXWxV2Wi2"
      }
    },
    {
      "cell_type": "code",
      "source": [
        "def reverse_skip(lst):\n",
        "    return lst[-2::-2]\n",
        "\n",
        "input_list = [1, 2, 3, 4, 5, 6]\n",
        "result = reverse_skip(input_list)\n",
        "print(result)\n"
      ],
      "metadata": {
        "colab": {
          "base_uri": "https://localhost:8080/"
        },
        "id": "dnM2YIId2YHQ",
        "outputId": "63d7f181-cf65-41fd-8618-f7f9472ba743"
      },
      "execution_count": 12,
      "outputs": [
        {
          "output_type": "stream",
          "name": "stdout",
          "text": [
            "[5, 3, 1]\n"
          ]
        }
      ]
    },
    {
      "cell_type": "markdown",
      "source": [
        "#4.3 Exercise on Nested List:"
      ],
      "metadata": {
        "id": "zE9M3HKA2f-u"
      }
    },
    {
      "cell_type": "markdown",
      "source": [
        "1. Flatten a Nested List:\n",
        "Write a Python function that takes a nested list and flattens it into a single list, where all the elements\n",
        "are in a single dimension."
      ],
      "metadata": {
        "id": "ENvTjO752iA3"
      }
    },
    {
      "cell_type": "code",
      "source": [
        "def flatten(lst):\n",
        "    flattened_list = []\n",
        "    for sublist in lst:\n",
        "        if isinstance(sublist, list):\n",
        "            flattened_list.extend(flatten(sublist))\n",
        "        else:\n",
        "            flattened_list.append(sublist)\n",
        "    return flattened_list\n",
        "\n",
        "\n",
        "nested_list = [[1, 2], [3, 4], [5]]\n",
        "result = flatten(nested_list)\n",
        "print(result)\n"
      ],
      "metadata": {
        "colab": {
          "base_uri": "https://localhost:8080/"
        },
        "id": "7AAOr4CL2j3f",
        "outputId": "d7cc28ed-a2c1-4abc-9cff-29a54165754e"
      },
      "execution_count": 13,
      "outputs": [
        {
          "output_type": "stream",
          "name": "stdout",
          "text": [
            "[1, 2, 3, 4, 5]\n"
          ]
        }
      ]
    },
    {
      "cell_type": "markdown",
      "source": [
        "2. Accessing Nested List Elements:\n",
        "Write a Python function that extracts a specific element from a nested list given its indices."
      ],
      "metadata": {
        "id": "cdSQJ12E2vXO"
      }
    },
    {
      "cell_type": "code",
      "source": [
        "def access_nested_element(lst, indices):\n",
        "    for index in indices:\n",
        "        lst = lst[index]\n",
        "    return lst\n",
        "\n",
        "\n",
        "nested_list = [[1, 2, 3], [4, 5, 6], [7, 8, 9]]\n",
        "indices = [1, 2]\n",
        "result = access_nested_element(nested_list, indices)\n",
        "print(result)\n"
      ],
      "metadata": {
        "colab": {
          "base_uri": "https://localhost:8080/"
        },
        "id": "1gGZKcaD2vFX",
        "outputId": "c803372f-def2-43a1-ee3e-346fbc52fb1e"
      },
      "execution_count": 14,
      "outputs": [
        {
          "output_type": "stream",
          "name": "stdout",
          "text": [
            "6\n"
          ]
        }
      ]
    },
    {
      "cell_type": "markdown",
      "source": [
        "3. Sum of All Elements in a Nested List:\n",
        "Write a Python function that calculates the sum of all the numbers in a nested list (regardless of depth)."
      ],
      "metadata": {
        "id": "RXokPuet25An"
      }
    },
    {
      "cell_type": "code",
      "source": [
        "def sum_nested(lst):\n",
        "    total = 0\n",
        "    for element in lst:\n",
        "        if isinstance(element, list):\n",
        "            total += sum_nested(element)\n",
        "        else:\n",
        "            total += element\n",
        "    return total\n",
        "\n",
        "nested_list = [[1, 2], [3, [4, 5]], 6]\n",
        "result = sum_nested(nested_list)\n",
        "print(result)\n"
      ],
      "metadata": {
        "colab": {
          "base_uri": "https://localhost:8080/"
        },
        "id": "nk-STvEE27Wf",
        "outputId": "ab9afa4e-8c64-4d0b-950f-5c24fecaf227"
      },
      "execution_count": 15,
      "outputs": [
        {
          "output_type": "stream",
          "name": "stdout",
          "text": [
            "21\n"
          ]
        }
      ]
    },
    {
      "cell_type": "markdown",
      "source": [
        "4. Remove Specific Element from a Nested List:\n",
        "Write a Python function that removes all occurrences of a specific element from a nested list."
      ],
      "metadata": {
        "id": "Gmt-AZGE3BmP"
      }
    },
    {
      "cell_type": "code",
      "source": [
        "def remove_element(lst, elem):\n",
        "    return [[item for item in sublist if item != elem] for sublist in lst]\n",
        "\n",
        "input_list = [[1, 2], [3, 2], [4, 5]]\n",
        "element_to_remove = 2\n",
        "result = remove_element(input_list, element_to_remove)\n",
        "print(result)"
      ],
      "metadata": {
        "colab": {
          "base_uri": "https://localhost:8080/"
        },
        "id": "-zjJWlMM3De3",
        "outputId": "9c091492-f6be-4c54-9854-4f8e0ca54d65"
      },
      "execution_count": 16,
      "outputs": [
        {
          "output_type": "stream",
          "name": "stdout",
          "text": [
            "[[1], [3], [4, 5]]\n"
          ]
        }
      ]
    },
    {
      "cell_type": "markdown",
      "source": [
        "5. Find the Maximum Element in a Nested List:\n",
        "Write a Python function that finds the maximum element in a nested list (regardless of depth)."
      ],
      "metadata": {
        "id": "yK5F0Dso5Xhp"
      }
    },
    {
      "cell_type": "code",
      "source": [
        "def find_max(lst):\n",
        "    max_value = float('-inf')\n",
        "    def traverse(nested):\n",
        "        nonlocal max_value\n",
        "        for item in nested:\n",
        "            if isinstance(item, list):\n",
        "                traverse(item)\n",
        "            else:\n",
        "                if item > max_value:\n",
        "                    max_value = item\n",
        "    traverse(lst)\n",
        "    return max_value\n",
        "\n",
        "input_list = [[1, 2], [3, [4, 5]], 6]\n",
        "result = find_max(input_list)\n",
        "print(result)"
      ],
      "metadata": {
        "colab": {
          "base_uri": "https://localhost:8080/"
        },
        "id": "rfixfgZd5YTg",
        "outputId": "78733587-5738-45ac-85a4-2924d23ee966"
      },
      "execution_count": 17,
      "outputs": [
        {
          "output_type": "stream",
          "name": "stdout",
          "text": [
            "6\n"
          ]
        }
      ]
    },
    {
      "cell_type": "markdown",
      "source": [
        "6. Count Occurrences of an Element in a Nested List:\n",
        "Write a Python function that counts how many times a specific element appears in a nested list."
      ],
      "metadata": {
        "id": "92nc3kSf5q8N"
      }
    },
    {
      "cell_type": "code",
      "source": [
        "def count_occurrences(lst, elem):\n",
        "    count = 0\n",
        "\n",
        "    def traverse(nested):\n",
        "        nonlocal count\n",
        "        for item in nested:\n",
        "            if isinstance(item, list):\n",
        "                traverse(item)\n",
        "            else:\n",
        "                if item == elem:\n",
        "                    count += 1\n",
        "    traverse(lst)\n",
        "    return count\n",
        "\n",
        "input_list = [[1, 2], [2, 3], [2, 4]]\n",
        "element_to_count = 2\n",
        "result = count_occurrences(input_list, element_to_count)\n",
        "print(result)\n"
      ],
      "metadata": {
        "colab": {
          "base_uri": "https://localhost:8080/"
        },
        "id": "_VcTFbpy5sOO",
        "outputId": "e19f51ce-2ea7-4596-8b12-bdb834d498d3"
      },
      "execution_count": 18,
      "outputs": [
        {
          "output_type": "stream",
          "name": "stdout",
          "text": [
            "3\n"
          ]
        }
      ]
    },
    {
      "cell_type": "markdown",
      "source": [
        "7. Flatten a List of Lists of Lists:\n",
        "Write a Python function that flattens a list of lists of lists into a single list, regardless of the depth.\n"
      ],
      "metadata": {
        "id": "VzuZglPg5-Xw"
      }
    },
    {
      "cell_type": "code",
      "source": [
        "def deep_flatten(lst):\n",
        "    flattened = []\n",
        "\n",
        "    for item in lst:\n",
        "        if isinstance(item, list):\n",
        "            flattened.extend(deep_flatten(item))\n",
        "        else:\n",
        "            flattened.append(item)\n",
        "\n",
        "    return flattened\n",
        "\n",
        "input_list = [[[1, 2], [3, 4]], [[5, 6], [7, 8]]]\n",
        "result = deep_flatten(input_list)\n",
        "print(result)\n"
      ],
      "metadata": {
        "colab": {
          "base_uri": "https://localhost:8080/"
        },
        "id": "81tbcj3G6GQu",
        "outputId": "a6e019d9-18fe-44a7-f949-c3e11f753ec5"
      },
      "execution_count": 19,
      "outputs": [
        {
          "output_type": "stream",
          "name": "stdout",
          "text": [
            "[1, 2, 3, 4, 5, 6, 7, 8]\n"
          ]
        }
      ]
    },
    {
      "cell_type": "markdown",
      "source": [
        "8. Nested List Average:\n",
        "Write a Python function that calculates the average of all elements in a nested list.\n"
      ],
      "metadata": {
        "id": "DTMLzgFo6Gyo"
      }
    },
    {
      "cell_type": "code",
      "source": [
        "def average_nested(lst):\n",
        "    total_sum = 0\n",
        "    total_count = 0\n",
        "\n",
        "    def traverse(nested):\n",
        "        nonlocal total_sum, total_count\n",
        "        for item in nested:\n",
        "            if isinstance(item, list):\n",
        "                traverse(item)\n",
        "            else:\n",
        "                total_sum += item\n",
        "                total_count += 1\n",
        "\n",
        "    traverse(lst)\n",
        "    if total_count == 0:\n",
        "        return 0\n",
        "    return total_sum / total_count\n",
        "\n",
        "input_list = [[1, 2], [3, 4], [5, 6]]\n",
        "result = average_nested(input_list)\n",
        "print(result)\n"
      ],
      "metadata": {
        "colab": {
          "base_uri": "https://localhost:8080/"
        },
        "id": "tuzRMhcC6Rie",
        "outputId": "4b441599-daf7-4b5a-8dc6-72c76709815d"
      },
      "execution_count": 20,
      "outputs": [
        {
          "output_type": "stream",
          "name": "stdout",
          "text": [
            "3.5\n"
          ]
        }
      ]
    },
    {
      "cell_type": "markdown",
      "source": [
        "#10.1 Basic Vector and Matrix Operation with Numpy."
      ],
      "metadata": {
        "id": "LPLOK9V57XJB"
      }
    },
    {
      "cell_type": "markdown",
      "source": [
        "Problem - 1: Array Creation:"
      ],
      "metadata": {
        "id": "q6m98Kyd7d0w"
      }
    },
    {
      "cell_type": "code",
      "source": [
        "import numpy as np\n",
        "\n",
        "# Task 1\n",
        "empty_array = np.empty((2, 2))\n",
        "print(\"Empty array (2x2):\")\n",
        "print(empty_array)\n",
        "\n",
        "# Task 2\n",
        "ones_array = np.ones((4, 2))\n",
        "print(\"\\nAll ones array (4x2):\")\n",
        "print(ones_array)\n",
        "\n",
        "# Task 3\n",
        "filled_array = np.full((3, 3), 7, dtype=int)\n",
        "print(\"\\nArray filled with 7 (3x3):\")\n",
        "print(filled_array)\n",
        "\n",
        "# Task 4\n",
        "existing_array = np.array([[1, 2], [3, 4]])\n",
        "zeros_like_array = np.zeros_like(existing_array)\n",
        "print(\"\\nArray of zeros with same shape as existing array:\")\n",
        "print(zeros_like_array)\n",
        "\n",
        "# Task 5\n",
        "ones_like_array = np.ones_like(existing_array)\n",
        "print(\"\\nArray of ones with same shape as existing array:\")\n",
        "print(ones_like_array)\n",
        "\n",
        "# Task 6\n",
        "new_list = [1, 2, 3, 4]\n",
        "numpy_array = np.array(new_list)\n",
        "print(\"\\nConverted NumPy array from list:\")\n",
        "print(numpy_array)\n"
      ],
      "metadata": {
        "colab": {
          "base_uri": "https://localhost:8080/"
        },
        "id": "9KaTEwnx7Z6n",
        "outputId": "84bea1d8-c10d-4827-e48d-7031c9bb4935"
      },
      "execution_count": 21,
      "outputs": [
        {
          "output_type": "stream",
          "name": "stdout",
          "text": [
            "Empty array (2x2):\n",
            "[[1.89651683e-316 0.00000000e+000]\n",
            " [4.94065646e-324 6.67679773e-310]]\n",
            "\n",
            "All ones array (4x2):\n",
            "[[1. 1.]\n",
            " [1. 1.]\n",
            " [1. 1.]\n",
            " [1. 1.]]\n",
            "\n",
            "Array filled with 7 (3x3):\n",
            "[[7 7 7]\n",
            " [7 7 7]\n",
            " [7 7 7]]\n",
            "\n",
            "Array of zeros with same shape as existing array:\n",
            "[[0 0]\n",
            " [0 0]]\n",
            "\n",
            "Array of ones with same shape as existing array:\n",
            "[[1 1]\n",
            " [1 1]]\n",
            "\n",
            "Converted NumPy array from list:\n",
            "[1 2 3 4]\n"
          ]
        }
      ]
    },
    {
      "cell_type": "markdown",
      "source": [
        "Problem - 2: Array Manipulation: Numerical Ranges and Array indexing:"
      ],
      "metadata": {
        "id": "WXIEgh7l7oE2"
      }
    },
    {
      "cell_type": "code",
      "source": [
        "import numpy as np\n",
        "\n",
        "# Task 1: Create an array with values ranging from 10 to 49\n",
        "array_10_to_49 = np.arange(10, 50)\n",
        "print(\"Array from 10 to 49:\")\n",
        "print(array_10_to_49)\n",
        "\n",
        "# Task 2: Create a 3x3 matrix with values ranging from 0 to 8\n",
        "matrix_3x3 = np.arange(9).reshape(3, 3)\n",
        "print(\"\\n3x3 Matrix with values from 0 to 8:\")\n",
        "print(matrix_3x3)\n",
        "\n",
        "# Task 3: Create a 3x3 identity matrix\n",
        "identity_matrix = np.eye(3)\n",
        "print(\"\\n3x3 Identity Matrix:\")\n",
        "print(identity_matrix)\n",
        "\n",
        "# Task 4: Create a random array of size 30 and find the mean of the array\n",
        "random_array = np.random.random(30)\n",
        "mean_value = random_array.mean()\n",
        "print(\"\\nRandom Array of size 30:\")\n",
        "print(random_array)\n",
        "print(f\"Mean of the array: {mean_value}\")\n",
        "\n",
        "# Task 5: Create a 10x10 array with random values and find the minimum and maximum values\n",
        "random_10x10 = np.random.random((10, 10))\n",
        "min_value = random_10x10.min()\n",
        "max_value = random_10x10.max()\n",
        "print(\"\\n10x10 Random Array:\")\n",
        "print(random_10x10)\n",
        "print(f\"Minimum value: {min_value}, Maximum value: {max_value}\")\n",
        "\n",
        "# Task 6: Create a zero array of size 10 and replace the 5th element with 1\n",
        "zero_array = np.zeros(10)\n",
        "zero_array[4] = 1\n",
        "print(\"\\nZero Array with 5th element replaced with 1:\")\n",
        "print(zero_array)\n",
        "\n",
        "# Task 7: Reverse an array arr = [1, 2, 0, 0, 4, 0]\n",
        "arr = np.array([1, 2, 0, 0, 4, 0])\n",
        "reversed_arr = arr[::-1]\n",
        "print(\"\\nReversed Array:\")\n",
        "print(reversed_arr)\n",
        "\n",
        "# Task 8: Create a 2D array with 1 on the border and 0 inside\n",
        "border_array = np.ones((5, 5))\n",
        "border_array[1:-1, 1:-1] = 0\n",
        "print(\"\\n2D Array with 1 on the border and 0 inside:\")\n",
        "print(border_array)\n",
        "\n",
        "# Task 9: Create an 8x8 matrix and fill it with a checkerboard pattern\n",
        "checkerboard_pattern = np.zeros((8, 8))\n",
        "checkerboard_pattern[1::2, ::2] = 1\n",
        "checkerboard_pattern[::2, 1::2] = 1\n",
        "print(\"\\n8x8 Checkerboard Pattern:\")\n",
        "print(checkerboard_pattern)\n"
      ],
      "metadata": {
        "colab": {
          "base_uri": "https://localhost:8080/"
        },
        "id": "cVInxkoH72Ln",
        "outputId": "3a1b75e3-6762-448e-a230-c720c2298163"
      },
      "execution_count": 23,
      "outputs": [
        {
          "output_type": "stream",
          "name": "stdout",
          "text": [
            "Array from 10 to 49:\n",
            "[10 11 12 13 14 15 16 17 18 19 20 21 22 23 24 25 26 27 28 29 30 31 32 33\n",
            " 34 35 36 37 38 39 40 41 42 43 44 45 46 47 48 49]\n",
            "\n",
            "3x3 Matrix with values from 0 to 8:\n",
            "[[0 1 2]\n",
            " [3 4 5]\n",
            " [6 7 8]]\n",
            "\n",
            "3x3 Identity Matrix:\n",
            "[[1. 0. 0.]\n",
            " [0. 1. 0.]\n",
            " [0. 0. 1.]]\n",
            "\n",
            "Random Array of size 30:\n",
            "[0.99057768 0.60659858 0.25090901 0.11883841 0.04879917 0.46676704\n",
            " 0.55677894 0.04499678 0.50106371 0.66241874 0.24358381 0.1848231\n",
            " 0.11072204 0.91566761 0.98354039 0.31657174 0.29727344 0.3546378\n",
            " 0.77442912 0.99336485 0.27681888 0.19338535 0.6945543  0.47836804\n",
            " 0.36486024 0.0419843  0.54765161 0.02063382 0.01230134 0.96419537]\n",
            "Mean of the array: 0.43390384068245436\n",
            "\n",
            "10x10 Random Array:\n",
            "[[0.71845991 0.21058011 0.10172402 0.14362088 0.03850323 0.33100713\n",
            "  0.72749883 0.66177343 0.76831699 0.56303305]\n",
            " [0.56996826 0.9192514  0.54208601 0.70012797 0.44924768 0.20514206\n",
            "  0.77381873 0.5850594  0.00326285 0.19733417]\n",
            " [0.40881924 0.98522077 0.77672431 0.25908548 0.86479155 0.38704848\n",
            "  0.30500167 0.48139487 0.88822917 0.71237822]\n",
            " [0.57601388 0.74540524 0.28663726 0.40156719 0.57634351 0.86973774\n",
            "  0.3046263  0.57359784 0.79090623 0.47682382]\n",
            " [0.98412255 0.08923954 0.26733702 0.62282093 0.93297447 0.81223323\n",
            "  0.43231545 0.44453632 0.93773421 0.23664323]\n",
            " [0.9821196  0.82653257 0.33241791 0.19013405 0.09249608 0.68953937\n",
            "  0.9091293  0.61937005 0.17303927 0.91200372]\n",
            " [0.51004861 0.9128914  0.97172029 0.93462811 0.95106496 0.46275882\n",
            "  0.02591871 0.15911906 0.7784956  0.42204004]\n",
            " [0.23585597 0.38308851 0.40006697 0.1184003  0.91421616 0.86394721\n",
            "  0.03188727 0.04427441 0.93401915 0.15875293]\n",
            " [0.45208477 0.44312364 0.27991785 0.98598993 0.87649288 0.6222189\n",
            "  0.29622835 0.31199935 0.35143433 0.36689827]\n",
            " [0.59265058 0.85441527 0.22905283 0.61014908 0.09920378 0.41185173\n",
            "  0.07036179 0.64774519 0.09240454 0.93238143]]\n",
            "Minimum value: 0.0032628525485681736, Maximum value: 0.9859899321661277\n",
            "\n",
            "Zero Array with 5th element replaced with 1:\n",
            "[0. 0. 0. 0. 1. 0. 0. 0. 0. 0.]\n",
            "\n",
            "Reversed Array:\n",
            "[0 4 0 0 2 1]\n",
            "\n",
            "2D Array with 1 on the border and 0 inside:\n",
            "[[1. 1. 1. 1. 1.]\n",
            " [1. 0. 0. 0. 1.]\n",
            " [1. 0. 0. 0. 1.]\n",
            " [1. 0. 0. 0. 1.]\n",
            " [1. 1. 1. 1. 1.]]\n",
            "\n",
            "8x8 Checkerboard Pattern:\n",
            "[[0. 1. 0. 1. 0. 1. 0. 1.]\n",
            " [1. 0. 1. 0. 1. 0. 1. 0.]\n",
            " [0. 1. 0. 1. 0. 1. 0. 1.]\n",
            " [1. 0. 1. 0. 1. 0. 1. 0.]\n",
            " [0. 1. 0. 1. 0. 1. 0. 1.]\n",
            " [1. 0. 1. 0. 1. 0. 1. 0.]\n",
            " [0. 1. 0. 1. 0. 1. 0. 1.]\n",
            " [1. 0. 1. 0. 1. 0. 1. 0.]]\n"
          ]
        }
      ]
    },
    {
      "cell_type": "markdown",
      "source": [
        "Problem - 3: Array Operations:"
      ],
      "metadata": {
        "id": "_M-3rzy672jW"
      }
    },
    {
      "cell_type": "code",
      "source": [
        "import numpy as np\n",
        "\n",
        "x = np.array([[1, 2], [3, 5]])\n",
        "y = np.array([[5, 6], [7, 8]])\n",
        "v = np.array([9, 10])\n",
        "w = np.array([11, 12])\n",
        "\n",
        "add_result = x + y\n",
        "print(\"1. Addition of x and y:\")\n",
        "print(add_result)\n",
        "\n",
        "subtract_result = x - y\n",
        "print(\"\\n2. Subtraction of x and y:\")\n",
        "print(subtract_result)\n",
        "\n",
        "multiply_x = x * 2\n",
        "multiply_y = y * 3\n",
        "print(\"\\n3. Multiplication of x by 2 and y by 3:\")\n",
        "print(multiply_x)\n",
        "print(multiply_y)\n",
        "\n",
        "square_x = np.square(x)\n",
        "square_y = np.square(y)\n",
        "print(\"\\n4. Square of each element in x and y:\")\n",
        "print(square_x)\n",
        "print(square_y)\n",
        "\n",
        "dot_vw = np.dot(v, w)\n",
        "dot_xv = np.dot(x, v)\n",
        "dot_xy = np.dot(x, y)\n",
        "print(\"\\n5. Dot Products:\")\n",
        "print(\"v . w =\", dot_vw)\n",
        "print(\"x . v =\", dot_xv)\n",
        "print(\"x . y =\", dot_xy)\n",
        "\n",
        "concat_xy_row = np.concatenate((x, y), axis=0)\n",
        "concat_vw_col = np.concatenate((v.reshape(-1, 1), w.reshape(-1, 1)), axis=1)\n",
        "print(\"\\n6. Concatenate x and y along rows and v and w along columns:\")\n",
        "print(concat_xy_row)\n",
        "print(concat_vw_col)\n",
        "\n",
        "\n",
        "try:\n",
        "    concat_xv = np.concatenate((x, v), axis=0)\n",
        "    print(\"\\n7. Concatenate x and v:\")\n",
        "    print(concat_xv)\n",
        "except ValueError as e:\n",
        "    print(\"\\n7. Concatenation of x and v failed with error:\", e)\n"
      ],
      "metadata": {
        "colab": {
          "base_uri": "https://localhost:8080/"
        },
        "id": "vys-TXU07494",
        "outputId": "f274d4c0-05a5-4350-f128-7801e9c1d3f5"
      },
      "execution_count": 24,
      "outputs": [
        {
          "output_type": "stream",
          "name": "stdout",
          "text": [
            "1. Addition of x and y:\n",
            "[[ 6  8]\n",
            " [10 13]]\n",
            "\n",
            "2. Subtraction of x and y:\n",
            "[[-4 -4]\n",
            " [-4 -3]]\n",
            "\n",
            "3. Multiplication of x by 2 and y by 3:\n",
            "[[ 2  4]\n",
            " [ 6 10]]\n",
            "[[15 18]\n",
            " [21 24]]\n",
            "\n",
            "4. Square of each element in x and y:\n",
            "[[ 1  4]\n",
            " [ 9 25]]\n",
            "[[25 36]\n",
            " [49 64]]\n",
            "\n",
            "5. Dot Products:\n",
            "v . w = 219\n",
            "x . v = [29 77]\n",
            "x . y = [[19 22]\n",
            " [50 58]]\n",
            "\n",
            "6. Concatenate x and y along rows and v and w along columns:\n",
            "[[1 2]\n",
            " [3 5]\n",
            " [5 6]\n",
            " [7 8]]\n",
            "[[ 9 11]\n",
            " [10 12]]\n",
            "\n",
            "7. Concatenation of x and v failed with error: all the input arrays must have same number of dimensions, but the array at index 0 has 2 dimension(s) and the array at index 1 has 1 dimension(s)\n"
          ]
        }
      ]
    },
    {
      "cell_type": "markdown",
      "source": [
        "Problem - 4: Matrix Operations:"
      ],
      "metadata": {
        "id": "tBmUJMmM8e9Y"
      }
    },
    {
      "cell_type": "code",
      "source": [
        "import numpy as np\n",
        "\n",
        "A = np.array([[3, 4], [7, 8]])\n",
        "B = np.array([[5, 3], [2, 1]])\n",
        "\n",
        "I = np.eye(2)\n",
        "\n",
        "A_inv = np.linalg.inv(A)\n",
        "result_1 = np.dot(A, A_inv)\n",
        "print(\"1. A * A^(-1):\")\n",
        "print(result_1)\n",
        "\n",
        "AB = np.dot(A, B)\n",
        "BA = np.dot(B, A)\n",
        "print(\"\\n2. AB != BA:\")\n",
        "print(\"AB =\\n\", AB)\n",
        "print(\"BA =\\n\", BA)\n",
        "\n",
        "AB_T = np.transpose(AB)\n",
        "B_T_A_T = np.dot(np.transpose(B), np.transpose(A))\n",
        "print(\"\\n3. (AB)^T = B^T * A^T:\")\n",
        "print(\"AB^T =\\n\", AB_T)\n",
        "print(\"B^T * A^T =\\n\", B_T_A_T)\n",
        "\n",
        "A_sys = np.array([[2, -3, 1], [1, -1, 2], [3, 1, -1]])\n",
        "B_sys = np.array([-1, -3, 9])\n",
        "A_inv_sys = np.linalg.inv(A_sys)\n",
        "\n",
        "# Solve the system\n",
        "X = np.dot(A_inv_sys, B_sys)\n",
        "\n",
        "print(\"\\n4. Solution to the system of linear equations (using Inverse method):\")\n",
        "print(f\"x = {X[0]}, y = {X[1]}, z = {X[2]}\")\n"
      ],
      "metadata": {
        "colab": {
          "base_uri": "https://localhost:8080/"
        },
        "id": "k90vmo5z8hyt",
        "outputId": "d622c089-7dd4-4567-e828-64bd0c3396ec"
      },
      "execution_count": 25,
      "outputs": [
        {
          "output_type": "stream",
          "name": "stdout",
          "text": [
            "1. A * A^(-1):\n",
            "[[1.00000000e+00 0.00000000e+00]\n",
            " [1.77635684e-15 1.00000000e+00]]\n",
            "\n",
            "2. AB != BA:\n",
            "AB =\n",
            " [[23 13]\n",
            " [51 29]]\n",
            "BA =\n",
            " [[36 44]\n",
            " [13 16]]\n",
            "\n",
            "3. (AB)^T = B^T * A^T:\n",
            "AB^T =\n",
            " [[23 51]\n",
            " [13 29]]\n",
            "B^T * A^T =\n",
            " [[23 51]\n",
            " [13 29]]\n",
            "\n",
            "4. Solution to the system of linear equations (using Inverse method):\n",
            "x = 2.0, y = 1.0, z = -2.0\n"
          ]
        }
      ]
    },
    {
      "cell_type": "markdown",
      "source": [
        "#10.2 Experiment: How Fast is Numpy?"
      ],
      "metadata": {
        "id": "AL_l3Qh_9cz_"
      }
    },
    {
      "cell_type": "markdown",
      "source": [
        "1. Element-wise Addition:"
      ],
      "metadata": {
        "id": "yrI-9mcu9XHo"
      }
    },
    {
      "cell_type": "markdown",
      "source": [
        "• Using Python Lists, perform element-wise addition of two lists of size 1, 000, 000. Measure\n",
        "and Print the time taken for this operation."
      ],
      "metadata": {
        "id": "SHhh3fUN9z1R"
      }
    },
    {
      "cell_type": "code",
      "source": [
        "import time\n",
        "\n",
        "list1 = [i for i in range(1, 1000001)]\n",
        "list2 = [i for i in range(1000001, 2000001)]\n",
        "\n",
        "start_time = time.time()\n",
        "result = [list1[i] + list2[i] for i in range(1000000)]\n",
        "end_time = time.time()\n",
        "print(f\"Time taken for element-wise addition: {end_time - start_time} seconds\")\n"
      ],
      "metadata": {
        "colab": {
          "base_uri": "https://localhost:8080/"
        },
        "id": "Obhbk8xA9baf",
        "outputId": "cde4b4e3-3d91-4861-9174-eefd462a2235"
      },
      "execution_count": 26,
      "outputs": [
        {
          "output_type": "stream",
          "name": "stdout",
          "text": [
            "Time taken for element-wise addition: 0.19544124603271484 seconds\n"
          ]
        }
      ]
    },
    {
      "cell_type": "markdown",
      "source": [
        "Using Numpy Arrays, Repeat the calculation and measure and print the time taken for\n",
        "this operation."
      ],
      "metadata": {
        "id": "9oKKzfgG900J"
      }
    },
    {
      "cell_type": "code",
      "source": [
        "import numpy as np\n",
        "import time\n",
        "\n",
        "array1 = np.arange(1, 1000001)\n",
        "array2 = np.arange(1000001, 2000001)\n",
        "\n",
        "start_time = time.time()\n",
        "result = array1 + array2\n",
        "end_time = time.time()\n",
        "\n",
        "\n",
        "print(f\"Time taken for element-wise addition with NumPy: {end_time - start_time} seconds\")\n"
      ],
      "metadata": {
        "colab": {
          "base_uri": "https://localhost:8080/"
        },
        "id": "TjiHSNBa92jZ",
        "outputId": "fd9efb7b-a7c3-4bba-8998-9615db959056"
      },
      "execution_count": 27,
      "outputs": [
        {
          "output_type": "stream",
          "name": "stdout",
          "text": [
            "Time taken for element-wise addition with NumPy: 0.002795696258544922 seconds\n"
          ]
        }
      ]
    },
    {
      "cell_type": "markdown",
      "source": [
        "2. Element-wise Multiplication"
      ],
      "metadata": {
        "id": "oODtvJP0-BsO"
      }
    },
    {
      "cell_type": "markdown",
      "source": [
        "• Using Python Lists, perform element-wise multiplication of two lists of size 1, 000, 000.\n",
        "Measure and Print the time taken for this operation."
      ],
      "metadata": {
        "id": "JX1Uc-7t-DM-"
      }
    },
    {
      "cell_type": "code",
      "source": [
        "import time\n",
        "\n",
        "list1 = list(range(1, 1000001))\n",
        "list2 = list(range(1000001, 2000001))\n",
        "\n",
        "start_time = time.time()\n",
        "result = [list1[i] * list2[i] for i in range(len(list1))]\n",
        "\n",
        "end_time = time.time()\n",
        "print(f\"Time taken for element-wise multiplication with Python lists: {end_time - start_time} seconds\")\n"
      ],
      "metadata": {
        "colab": {
          "base_uri": "https://localhost:8080/"
        },
        "id": "K_cHOGmW-GWW",
        "outputId": "c4265e30-898f-4e70-9047-b6d65e727738"
      },
      "execution_count": 28,
      "outputs": [
        {
          "output_type": "stream",
          "name": "stdout",
          "text": [
            "Time taken for element-wise multiplication with Python lists: 0.07372498512268066 seconds\n"
          ]
        }
      ]
    },
    {
      "cell_type": "markdown",
      "source": [
        "• Using Numpy Arrays, Repeat the calculation and measure and print the time taken for\n",
        "this operation."
      ],
      "metadata": {
        "id": "VqMT98Oq-GsO"
      }
    },
    {
      "cell_type": "code",
      "source": [
        "import numpy as np\n",
        "import time\n",
        "\n",
        "array1 = np.arange(1, 1000001)\n",
        "array2 = np.arange(1000001, 2000001)\n",
        "\n",
        "start_time = time.time()\n",
        "result = array1 * array2\n",
        "end_time = time.time()\n",
        "\n",
        "print(f\"Time taken for element-wise multiplication with NumPy arrays: {end_time - start_time} seconds\")\n"
      ],
      "metadata": {
        "colab": {
          "base_uri": "https://localhost:8080/"
        },
        "id": "clRRuIQ6-IQo",
        "outputId": "095cd929-7390-4a83-bc1c-ab6509fa175b"
      },
      "execution_count": 29,
      "outputs": [
        {
          "output_type": "stream",
          "name": "stdout",
          "text": [
            "Time taken for element-wise multiplication with NumPy arrays: 0.003144502639770508 seconds\n"
          ]
        }
      ]
    },
    {
      "cell_type": "markdown",
      "source": [
        "3. Dot Product"
      ],
      "metadata": {
        "id": "k4rVTJqY-a9P"
      }
    },
    {
      "cell_type": "markdown",
      "source": [
        "• Using Python Lists, compute the dot product of two lists of size 1, 000, 000. Measure and\n",
        "Print the time taken for this operation."
      ],
      "metadata": {
        "id": "4Co5gCPP-clY"
      }
    },
    {
      "cell_type": "code",
      "source": [
        "import time\n",
        "\n",
        "list1 = [i for i in range(1, 1000001)]\n",
        "list2 = [i for i in range(1000001, 2000001)]\n",
        "\n",
        "start_time = time.time()\n",
        "dot_product = sum(a * b for a, b in zip(list1, list2))\n",
        "\n",
        "end_time = time.time()\n",
        "print(f\"Time taken for dot product using Python lists: {end_time - start_time} seconds\")\n"
      ],
      "metadata": {
        "colab": {
          "base_uri": "https://localhost:8080/"
        },
        "id": "LxIhSNRP-hGh",
        "outputId": "222937dd-c516-470b-aefd-5c295e335f43"
      },
      "execution_count": 30,
      "outputs": [
        {
          "output_type": "stream",
          "name": "stdout",
          "text": [
            "Time taken for dot product using Python lists: 0.049886226654052734 seconds\n"
          ]
        }
      ]
    },
    {
      "cell_type": "markdown",
      "source": [
        "• Using Numpy Arrays, Repeat the calculation and measure and print the time taken for\n",
        "this operation."
      ],
      "metadata": {
        "id": "KPTW5GRB-hdI"
      }
    },
    {
      "cell_type": "code",
      "source": [
        "import numpy as np\n",
        "import time\n",
        "\n",
        "array1 = np.arange(1, 1000001)\n",
        "array2 = np.arange(1000001, 2000001)\n",
        "\n",
        "start_time = time.time()\n",
        "dot_product = np.dot(array1, array2)\n",
        "\n",
        "end_time = time.time()\n",
        "print(f\"Time taken for dot product using NumPy arrays: {end_time - start_time} seconds\")\n"
      ],
      "metadata": {
        "colab": {
          "base_uri": "https://localhost:8080/"
        },
        "id": "KG4NECpL-jeX",
        "outputId": "d74c488a-cfb8-40db-f8cb-8de216a4b525"
      },
      "execution_count": 31,
      "outputs": [
        {
          "output_type": "stream",
          "name": "stdout",
          "text": [
            "Time taken for dot product using NumPy arrays: 0.0014605522155761719 seconds\n"
          ]
        }
      ]
    },
    {
      "cell_type": "markdown",
      "source": [
        "4. Matrix Multiplication"
      ],
      "metadata": {
        "id": "Dy9ALYwj-1SG"
      }
    },
    {
      "cell_type": "markdown",
      "source": [
        "• Using Python lists, perform matrix multiplication of two matrices of size 1000x1000. Mea-\n",
        "sure and print the time taken for this operation."
      ],
      "metadata": {
        "id": "jvgZ5w3M-3bQ"
      }
    },
    {
      "cell_type": "code",
      "source": [
        "import time\n",
        "\n",
        "def matrix_multiply(A, B):\n",
        "\n",
        "    result = [[0] * len(B[0]) for _ in range(len(A))]\n",
        "    for i in range(len(A)):\n",
        "        for j in range(len(B[0])):\n",
        "            for k in range(len(B)):\n",
        "                result[i][j] += A[i][k] * B[k][j]\n",
        "\n",
        "    return result\n",
        "\n",
        "matrix_A = [[1] * 1000 for _ in range(1000)]\n",
        "matrix_B = [[1] * 1000 for _ in range(1000)]\n",
        "\n",
        "start_time = time.time()\n",
        "result_matrix = matrix_multiply(matrix_A, matrix_B)\n",
        "\n",
        "end_time = time.time()\n",
        "print(f\"Time taken for matrix multiplication using Python lists: {end_time - start_time} seconds\")\n"
      ],
      "metadata": {
        "colab": {
          "base_uri": "https://localhost:8080/"
        },
        "id": "jFZ9gTUZ-69B",
        "outputId": "f732d330-3a07-4fb0-df67-118172f8e41d"
      },
      "execution_count": 32,
      "outputs": [
        {
          "output_type": "stream",
          "name": "stdout",
          "text": [
            "Time taken for matrix multiplication using Python lists: 91.45691394805908 seconds\n"
          ]
        }
      ]
    },
    {
      "cell_type": "markdown",
      "source": [
        "• Using NumPy arrays, perform matrix multiplication of two matrices of size 1000x1000.\n",
        "Measure and print the time taken for this operation."
      ],
      "metadata": {
        "id": "-tz5wFYJ-7VH"
      }
    },
    {
      "cell_type": "code",
      "source": [
        "import numpy as np\n",
        "import time\n",
        "matrix_A = np.ones((1000, 1000))\n",
        "matrix_B = np.ones((1000, 1000))\n",
        "\n",
        "start_time = time.time()\n",
        "\n",
        "result_matrix = np.dot(matrix_A, matrix_B)\n",
        "\n",
        "end_time = time.time()\n",
        "print(f\"Time taken for matrix multiplication using NumPy: {end_time - start_time} seconds\")\n"
      ],
      "metadata": {
        "colab": {
          "base_uri": "https://localhost:8080/"
        },
        "id": "Eo68CWBA-9tv",
        "outputId": "3b257eb5-cf53-48f4-9200-dc2e819103bf"
      },
      "execution_count": 33,
      "outputs": [
        {
          "output_type": "stream",
          "name": "stdout",
          "text": [
            "Time taken for matrix multiplication using NumPy: 0.060395002365112305 seconds\n"
          ]
        }
      ]
    }
  ]
}